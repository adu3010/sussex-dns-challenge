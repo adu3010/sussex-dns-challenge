{
 "cells": [
  {
   "cell_type": "code",
   "execution_count": 2,
   "metadata": {},
   "outputs": [],
   "source": [
    "import os\n",
    "import numpy as np"
   ]
  },
  {
   "cell_type": "code",
   "execution_count": 5,
   "metadata": {},
   "outputs": [],
   "source": [
    "clean = np.load(\"/its/home/ag918/cropped_clean_float16.npy\")\n",
    "noise = np.load(\"/its/home/ag918/cropped_noise_float16.npy\")\n",
    "noisy = np.load(\"/its/home/ag918/cropped_noisy_float16.npy\")"
   ]
  },
  {
   "cell_type": "code",
   "execution_count": 8,
   "metadata": {},
   "outputs": [
    {
     "name": "stdout",
     "output_type": "stream",
     "text": [
      "clean shape: (10000,)\n",
      "noise shape: (10000,)\n",
      "noisy shape: (10000,)\n"
     ]
    }
   ],
   "source": [
    "print(f\"clean shape: {clean.shape}\")\n",
    "print(f\"noise shape: {noise.shape}\")\n",
    "print(f\"noisy shape: {noisy.shape}\")"
   ]
  },
  {
   "cell_type": "markdown",
   "metadata": {},
   "source": [
    "clean shape: (10000, 80, 2000)"
   ]
  },
  {
   "cell_type": "code",
   "execution_count": 13,
   "metadata": {},
   "outputs": [],
   "source": [
    "# assuming this is the shape of your audio, need to check\n",
    "\n",
    "a = np.zeros((26268, 80, 1900))"
   ]
  },
  {
   "cell_type": "code",
   "execution_count": 20,
   "metadata": {},
   "outputs": [
    {
     "data": {
      "text/plain": [
       "(26268, 80, 1900)"
      ]
     },
     "execution_count": 20,
     "metadata": {},
     "output_type": "execute_result"
    }
   ],
   "source": [
    "a.shape"
   ]
  },
  {
   "cell_type": "code",
   "execution_count": 26,
   "metadata": {},
   "outputs": [
    {
     "name": "stdout",
     "output_type": "stream",
     "text": [
      "audio shape before cropping: (26268, 80, 1900)\n",
      "audio shape after cropping:  (1000, 80, 1900)\n"
     ]
    }
   ],
   "source": [
    "# HOW TO CROP\n",
    "print(f\"audio shape before cropping: {a.shape}\")\n",
    "print(f\"audio shape after cropping:  {a[:1000,:].shape}\")"
   ]
  },
  {
   "cell_type": "code",
   "execution_count": 34,
   "metadata": {},
   "outputs": [
    {
     "name": "stdout",
     "output_type": "stream",
     "text": [
      "bite size originally: 8\n",
      "bite size converted : 2\n"
     ]
    }
   ],
   "source": [
    "# HOW TO CHANGE DATA TYPE\n",
    "print(f\"bite size originally: {a.itemsize}\")\n",
    "print(f\"bite size converted : {a.astype('float16').itemsize}\")"
   ]
  },
  {
   "cell_type": "code",
   "execution_count": 36,
   "metadata": {},
   "outputs": [],
   "source": [
    "np.save(\"cropped_a.npy\", a[:1000,:])\n",
    "np.save(\"float16_a.npy\", a.astype('float16'))"
   ]
  },
  {
   "cell_type": "code",
   "execution_count": 28,
   "metadata": {},
   "outputs": [
    {
     "data": {
      "text/plain": [
       "(1000, 80, 1900)"
      ]
     },
     "execution_count": 28,
     "metadata": {},
     "output_type": "execute_result"
    }
   ],
   "source": [
    "a_loaded = np.load(\"/its/home/ag918/cropped_a.npy\")\n",
    "a_float16 = np.load(\"/its/home/ag918/float16_a.npy\")\n",
    "a_loaded.shape"
   ]
  },
  {
   "cell_type": "code",
   "execution_count": 30,
   "metadata": {},
   "outputs": [
    {
     "data": {
      "text/plain": [
       "8"
      ]
     },
     "execution_count": 30,
     "metadata": {},
     "output_type": "execute_result"
    }
   ],
   "source": [
    "a_loaded.itemsize"
   ]
  },
  {
   "cell_type": "code",
   "execution_count": null,
   "metadata": {},
   "outputs": [],
   "source": []
  }
 ],
 "metadata": {
  "kernelspec": {
   "display_name": "Python 3",
   "language": "python",
   "name": "python3"
  },
  "language_info": {
   "codemirror_mode": {
    "name": "ipython",
    "version": 3
   },
   "file_extension": ".py",
   "mimetype": "text/x-python",
   "name": "python",
   "nbconvert_exporter": "python",
   "pygments_lexer": "ipython3",
   "version": "3.8.10"
  }
 },
 "nbformat": 4,
 "nbformat_minor": 2
}
