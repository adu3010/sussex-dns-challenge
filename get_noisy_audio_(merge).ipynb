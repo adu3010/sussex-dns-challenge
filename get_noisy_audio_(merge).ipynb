{
 "cells": [
  {
   "cell_type": "code",
   "execution_count": 1,
   "metadata": {},
   "outputs": [],
   "source": [
    "import os\n",
    "from pydub import AudioSegment\n",
    "import random\n",
    "from tqdm import trange"
   ]
  },
  {
   "cell_type": "code",
   "execution_count": 2,
   "metadata": {},
   "outputs": [
    {
     "name": "stderr",
     "output_type": "stream",
     "text": [
      "100%|██████████| 26268/26268 [21:16<00:00, 20.57it/s]  \n"
     ]
    }
   ],
   "source": [
    "# Define the input audio files directories\n",
    "clean_audio_dir = \"/mnt/data0/ag918/DNS-Challenge/output_audio/clean/\"\n",
    "noise_audio_dir = \"/mnt/data0/ag918/DNS-Challenge/output_audio/noise/\"\n",
    "\n",
    "# Define the output directory\n",
    "output_dir = \"/mnt/data0/ag918/DNS-Challenge/output_audio/noisy/\"\n",
    "\n",
    "# Get a list of all clean audio files\n",
    "clean_audio_files = os.listdir(clean_audio_dir)\n",
    "\n",
    "# Get a list of all noise audio files\n",
    "noise_audio_files = os.listdir(noise_audio_dir)\n",
    "\n",
    "# Merge each clean audio file with a random noise audio file\n",
    "for i in trange(len(clean_audio_files)):\n",
    "    clean_audio_file = clean_audio_dir + clean_audio_files[i]\n",
    "    noise_audio_file = noise_audio_dir + noise_audio_files[i] \n",
    "\n",
    "    clean_audio = AudioSegment.from_file(clean_audio_file)\n",
    "    noise_audio = AudioSegment.from_file(noise_audio_file)\n",
    "\n",
    "    merged_audio = clean_audio.overlay(noise_audio)\n",
    "    output_file = output_dir + f\"noisy_audio_{i}.wav\"\n",
    "    merged_audio.export(output_file, format=\"wav\") "
   ]
  }
 ],
 "metadata": {
  "kernelspec": {
   "display_name": "python_ve",
   "language": "python",
   "name": "python3"
  },
  "language_info": {
   "codemirror_mode": {
    "name": "ipython",
    "version": 3
   },
   "file_extension": ".py",
   "mimetype": "text/x-python",
   "name": "python",
   "nbconvert_exporter": "python",
   "pygments_lexer": "ipython3",
   "version": "3.9.5"
  }
 },
 "nbformat": 4,
 "nbformat_minor": 2
}
