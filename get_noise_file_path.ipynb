{
 "cells": [
  {
   "cell_type": "code",
   "execution_count": 27,
   "metadata": {},
   "outputs": [],
   "source": [
    "import os\n",
    "import numpy as np\n",
    "from os import walk\n",
    "import contextlib\n",
    "\n",
    "import os\n",
    "import wave\n",
    "import contextlib\n",
    "import numpy as np\n",
    "from pydub import AudioSegment\n",
    "from tqdm import trange"
   ]
  },
  {
   "cell_type": "code",
   "execution_count": 28,
   "metadata": {},
   "outputs": [],
   "source": [
    "clean_downloaded_dir = \"/mnt/data0/ts468/data/DNS-Challenge/datasets_fullband/noise_fullband/datasets_fullband/noise_fullband/*.*\""
   ]
  },
  {
   "cell_type": "code",
   "execution_count": 29,
   "metadata": {},
   "outputs": [],
   "source": [
    "\n",
    "# only need 26268"
   ]
  },
  {
   "cell_type": "code",
   "execution_count": 30,
   "metadata": {},
   "outputs": [],
   "source": [
    "import glob\n",
    "all_files = []\n",
    "\n",
    "# search all files inside a specific folder\n",
    "# *.* means file name with any extension\n",
    "dir_path = clean_downloaded_dir\n",
    "for file in glob.glob(dir_path, recursive=True):\n",
    "    all_files.append(file)"
   ]
  },
  {
   "cell_type": "code",
   "execution_count": 31,
   "metadata": {},
   "outputs": [
    {
     "data": {
      "text/plain": [
       "False"
      ]
     },
     "execution_count": 31,
     "metadata": {},
     "output_type": "execute_result"
    }
   ],
   "source": [
    "# check for duplicates \n",
    "len(all_files) != len(set(all_files))"
   ]
  },
  {
   "cell_type": "code",
   "execution_count": 32,
   "metadata": {},
   "outputs": [],
   "source": [
    "all_files = list(dict.fromkeys(all_files))\n",
    "all_files = all_files[:26268]"
   ]
  },
  {
   "cell_type": "code",
   "execution_count": 33,
   "metadata": {},
   "outputs": [
    {
     "data": {
      "text/plain": [
       "False"
      ]
     },
     "execution_count": 33,
     "metadata": {},
     "output_type": "execute_result"
    }
   ],
   "source": [
    "# check for duplicates \n",
    "len(all_files) != len(set(all_files))"
   ]
  },
  {
   "cell_type": "code",
   "execution_count": 34,
   "metadata": {},
   "outputs": [],
   "source": [
    "def extend_audio(audio_path, target_length_ms):\n",
    "    sound = AudioSegment.from_file(audio_path, format=\"wav\")\n",
    "    original_duration_ms = len(sound)\n",
    "    \n",
    "    if original_duration_ms < target_length_ms:\n",
    "        num_repeats = int(np.ceil(target_length_ms / original_duration_ms))\n",
    "        repeated_sound = sound * num_repeats\n",
    "        extended_sound = repeated_sound[:target_length_ms]\n",
    "        return extended_sound\n",
    "    else:\n",
    "        return sound[:target_length_ms]"
   ]
  },
  {
   "cell_type": "code",
   "execution_count": 35,
   "metadata": {},
   "outputs": [
    {
     "name": "stderr",
     "output_type": "stream",
     "text": [
      "  0%|          | 0/26268 [00:00<?, ?it/s]"
     ]
    },
    {
     "name": "stdout",
     "output_type": "stream",
     "text": [
      "<class 'pydub.audio_segment.AudioSegment'>\n"
     ]
    },
    {
     "name": "stderr",
     "output_type": "stream",
     "text": [
      "\n"
     ]
    }
   ],
   "source": [
    "# Set target duration to 19 seconds\n",
    "target_duration = 19\n",
    "target_duration_ms = int(target_duration * 1000)  # Convert to milliseconds for pydub\n",
    "\n",
    "for i in trange(len(all_files)):\n",
    "    print(type(extend_audio(all_files[i], target_duration_ms)))\n",
    "    break"
   ]
  },
  {
   "cell_type": "code",
   "execution_count": 36,
   "metadata": {},
   "outputs": [
    {
     "name": "stderr",
     "output_type": "stream",
     "text": [
      "100%|██████████| 26268/26268 [07:26<00:00, 58.88it/s]  "
     ]
    },
    {
     "name": "stdout",
     "output_type": "stream",
     "text": [
      "All noise files have been extended and padded to 19 seconds.\n"
     ]
    },
    {
     "name": "stderr",
     "output_type": "stream",
     "text": [
      "\n"
     ]
    }
   ],
   "source": [
    "\n",
    "\n",
    "# Function to process all WAV files in a directory\n",
    "def process_directory():\n",
    "    output_path = \"/mnt/data0/ag918/DNS-Challenge/output_audio/noise/\"\n",
    "    for i in trange(len(all_files)):\n",
    "    # Extend the audio and export\n",
    "        extended_audio = extend_audio(all_files[i], target_duration_ms)\n",
    "        extended_audio.export((output_path + f\"noise_audio_{i}.wav\"), format=\"wav\")\n",
    "        #print(f\"Processed: {all_files[i]} -> {output_path}\")\n",
    "\n",
    "\n",
    "# Process and extend all noise audio files\n",
    "process_directory()\n",
    "print(\"All noise files have been extended and padded to 19 seconds.\")"
   ]
  }
 ],
 "metadata": {
  "kernelspec": {
   "display_name": "python_ve",
   "language": "python",
   "name": "python3"
  },
  "language_info": {
   "codemirror_mode": {
    "name": "ipython",
    "version": 3
   },
   "file_extension": ".py",
   "mimetype": "text/x-python",
   "name": "python",
   "nbconvert_exporter": "python",
   "pygments_lexer": "ipython3",
   "version": "3.9.5"
  }
 },
 "nbformat": 4,
 "nbformat_minor": 2
}
