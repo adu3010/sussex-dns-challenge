{
 "cells": [
  {
   "cell_type": "code",
   "execution_count": 23,
   "metadata": {},
   "outputs": [],
   "source": [
    "# kept all imports from previous project -TS\n",
    "import os\n",
    "import matplotlib.pyplot as plt\n",
    "import librosa\n",
    "import librosa.display\n",
    "import IPython.display as ipd\n",
    "import numpy as np\n",
    "import random\n",
    "import pandas as pd\n",
    "import re\n",
    "from tqdm import trange\n",
    "import copy\n",
    "import tarfile\n",
    "import scipy.io.wavfile\n",
    "from scipy.fftpack import dct\n",
    "import soundfile as sf\n",
    "\n",
    "# import simplified mel encoder\n",
    "from mel_encoder import wav2mel"
   ]
  },
  {
   "cell_type": "code",
   "execution_count": 24,
   "metadata": {},
   "outputs": [],
   "source": [
    "# to get to HD\n",
    "cache_dir=os.path.expanduser(\"/mnt/data0/ag918/DNS-Challenge/\") \n",
    "\n",
    "os.chdir(cache_dir)\n",
    "\n",
    "# create new directory for raw HD\n",
    "assert os.path.isdir(\"output_mel\") == True\n",
    "\n",
    "os.chdir(\"output_mel\")"
   ]
  },
  {
   "cell_type": "code",
   "execution_count": 25,
   "metadata": {},
   "outputs": [],
   "source": [
    "clean_directory = \"/mnt/data0/ag918/DNS-Challenge/output_audio/clean/\"\n",
    "noise_directory = \"/mnt/data0/ag918/DNS-Challenge/output_audio/noise/\"\n",
    "noisy_directory = \"/mnt/data0/ag918/DNS-Challenge/output_audio/noisy/\""
   ]
  },
  {
   "cell_type": "code",
   "execution_count": 26,
   "metadata": {},
   "outputs": [],
   "source": [
    "clean_audio_files = os.listdir(clean_directory)\n",
    "noise_audio_files = os.listdir(noise_directory)\n",
    "noisy_audio_files = os.listdir(noisy_directory)"
   ]
  },
  {
   "cell_type": "code",
   "execution_count": 27,
   "metadata": {},
   "outputs": [
    {
     "name": "stdout",
     "output_type": "stream",
     "text": [
      "clean audio folder size: 26268\n",
      "noise audio folder size: 26268\n",
      "noisy audio folder size: 26268\n"
     ]
    }
   ],
   "source": [
    "print(f\"clean audio folder size: {len(clean_audio_files)}\")\n",
    "print(f\"noise audio folder size: {len(noise_audio_files)}\")\n",
    "print(f\"noisy audio folder size: {len(noisy_audio_files)}\")"
   ]
  },
  {
   "cell_type": "code",
   "execution_count": 28,
   "metadata": {},
   "outputs": [],
   "source": [
    "assert len(clean_audio_files) == len(noise_audio_files) == len(noisy_audio_files)"
   ]
  },
  {
   "cell_type": "code",
   "execution_count": 30,
   "metadata": {},
   "outputs": [
    {
     "name": "stderr",
     "output_type": "stream",
     "text": [
      "100%|██████████| 26268/26268 [1:00:59<00:00,  7.18it/s]\n"
     ]
    }
   ],
   "source": [
    "clean_audio_mel = []\n",
    "noise_audio_mel = []\n",
    "noisy_audio_mel = []\n",
    "\n",
    "\n",
    "for i in trange(len(clean_audio_files)):\n",
    "    clean_audio_mel.append(wav2mel((clean_directory + clean_audio_files[i]),\n",
    "                                   num_channels=80,\n",
    "                                   num_frames=1900))\n",
    "\n",
    "    noise_audio_mel.append(wav2mel((noise_directory + noise_audio_files[i]),\n",
    "                                   num_channels=80,\n",
    "                                   num_frames=1900))\n",
    "\n",
    "    noisy_audio_mel.append(wav2mel((noisy_directory + noisy_audio_files[i]),\n",
    "                                   num_channels=80,\n",
    "                                   num_frames=1900)) "
   ]
  },
  {
   "cell_type": "code",
   "execution_count": 31,
   "metadata": {},
   "outputs": [
    {
     "name": "stdout",
     "output_type": "stream",
     "text": [
      "clean audio mel shape: (80, 1900)\n",
      "noise audio mel shape: (80, 1900)\n",
      "noisy audio mel shape: (80, 1900)\n"
     ]
    }
   ],
   "source": [
    "print(f\"clean audio mel shape: {clean_audio_mel[0].shape}\")\n",
    "print(f\"noise audio mel shape: {noise_audio_mel[0].shape}\")\n",
    "print(f\"noisy audio mel shape: {noisy_audio_mel[0].shape}\")"
   ]
  },
  {
   "cell_type": "code",
   "execution_count": 32,
   "metadata": {},
   "outputs": [],
   "source": [
    "np.save(\"clean_audio_mel_encoding.npy\", clean_audio_mel)\n",
    "np.save(\"noise_audio_mel_encoding.npy\", noise_audio_mel)\n",
    "np.save(\"noisy_audio_mel_encoding.npy\", noisy_audio_mel)"
   ]
  },
  {
   "cell_type": "code",
   "execution_count": 33,
   "metadata": {},
   "outputs": [
    {
     "name": "stdout",
     "output_type": "stream",
     "text": [
      "clean audio shape: (26268, 80, 1900)\n",
      "noise audio shape: (26268, 80, 1900)\n",
      "noisy audio shape: (26268, 80, 1900)\n"
     ]
    }
   ],
   "source": [
    "# loading the dataset\n",
    "clean_mel = np.load(\"clean_audio_mel_encoding.npy\")\n",
    "noise_mel = np.load(\"noise_audio_mel_encoding.npy\")\n",
    "noisy_mel = np.load(\"noisy_audio_mel_encoding.npy\")\n",
    "\n",
    "#verify these are the same length\n",
    "print(f\"clean audio shape: {clean_mel.shape}\")\n",
    "print(f\"noise audio shape: {noise_mel.shape}\")\n",
    "print(f\"noisy audio shape: {noisy_mel.shape}\")\n",
    "\n",
    "assert clean_mel.shape == noise_mel.shape == noisy_mel.shape "
   ]
  }
 ],
 "metadata": {
  "kernelspec": {
   "display_name": "pythonenv",
   "language": "python",
   "name": "python3"
  },
  "language_info": {
   "codemirror_mode": {
    "name": "ipython",
    "version": 3
   },
   "file_extension": ".py",
   "mimetype": "text/x-python",
   "name": "python",
   "nbconvert_exporter": "python",
   "pygments_lexer": "ipython3",
   "version": "3.9.5"
  },
  "orig_nbformat": 4
 },
 "nbformat": 4,
 "nbformat_minor": 2
}
